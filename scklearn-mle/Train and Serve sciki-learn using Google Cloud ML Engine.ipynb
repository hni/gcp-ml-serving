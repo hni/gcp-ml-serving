{
 "cells": [
  {
   "cell_type": "code",
   "execution_count": 23,
   "metadata": {
    "collapsed": true
   },
   "outputs": [],
   "source": [
    "import pandas as pd\n",
    "from sklearn import model_selection\n",
    "from sklearn import tree\n",
    "from sklearn.metrics import accuracy_score\n",
    "from sklearn.externals import joblib"
   ]
  },
  {
   "cell_type": "code",
   "execution_count": 24,
   "metadata": {
    "collapsed": true
   },
   "outputs": [],
   "source": [
    "DATA_FILE = 'data/iris.data.csv'\n",
    "MODEL_FILE = 'model.pkl'"
   ]
  },
  {
   "cell_type": "markdown",
   "metadata": {},
   "source": [
    "## Load the Data"
   ]
  },
  {
   "cell_type": "code",
   "execution_count": 25,
   "metadata": {
    "collapsed": true
   },
   "outputs": [],
   "source": [
    "INPUT_FEATURES = ['sepal_length', 'sepal_width', 'petal_length', 'petal_width']\n",
    "TARGET_FEATURE = 'species'\n",
    "\n",
    "iris_data = pd.read_csv(DATA_FILE, header=0)\n",
    "X= iris_data[INPUT_FEATURES]\n",
    "y= iris_data[TARGET_FEATURE]"
   ]
  },
  {
   "cell_type": "markdown",
   "metadata": {},
   "source": [
    "## Fit and Evaluate SKLearn Estimator"
   ]
  },
  {
   "cell_type": "code",
   "execution_count": 27,
   "metadata": {},
   "outputs": [
    {
     "name": "stdout",
     "output_type": "stream",
     "text": [
      "Training Performance: 96.0%\n"
     ]
    }
   ],
   "source": [
    "estimator = tree.DecisionTreeClassifier(max_leaf_nodes=3)\n",
    "estimator.fit(X=X, y=y)\n",
    "y_predicted = estimator.predict(X=X)\n",
    "accuracy = accuracy_score(y, y_predicted)\n",
    "print(\"Training Performance: {}%\".format(accuracy*100))"
   ]
  },
  {
   "cell_type": "markdown",
   "metadata": {},
   "source": [
    "## Save & Load Trained Estimator"
   ]
  },
  {
   "cell_type": "code",
   "execution_count": 45,
   "metadata": {},
   "outputs": [
    {
     "name": "stdout",
     "output_type": "stream",
     "text": [
      "['setosa' 'setosa' 'setosa' 'setosa' 'setosa']\n"
     ]
    }
   ],
   "source": [
    "joblib.dump(estimator, MODEL_FILE) \n",
    "loaded_estimator = joblib.load(MODEL_FILE) \n",
    "predictions = loaded_estimator.predict(X.iloc[:5,:])\n",
    "print(predictions)"
   ]
  },
  {
   "cell_type": "markdown",
   "metadata": {},
   "source": [
    "## Submit Cloud ML Job to Train the SKLearn Model\n",
    "The package in **iris-sklearn-package/trainer** performs the following:\n",
    "* Download the data file from GCS\n",
    "* Load the data file as Pandas Dataframe\n",
    "* Create and Fit a SKLearn Estimator using the data\n",
    "* Save the fitted model on locally\n",
    "* Upload the saved model to GCS to be served"
   ]
  },
  {
   "cell_type": "code",
   "execution_count": null,
   "metadata": {
    "collapsed": true
   },
   "outputs": [],
   "source": [
    "%%bash\n",
    "\n",
    "echo \"Submitting a Cloud ML Engine job...\"\n",
    "\n",
    "REGION=europe-west1\n",
    "TIER=BASIC\n",
    "BUCKET=ksalama-gcs-cloudml\n",
    "\n",
    "MODEL_NAME=\"iris_estimator\"\n",
    "\n",
    "PACKAGE_PATH=trainer\n",
    "TRAIN_FILE=gs://${BUCKET}/data/iris/iris.data.csv\n",
    "MODEL_DIR=gs://${BUCKET}/ml-models/iris_estimators\n",
    "\n",
    "CURRENT_DATE=`date +%Y%m%d_%H%M%S`\n",
    "JOB_NAME=train_${MODEL_NAME}_${CURRENT_DATE}\n",
    "\n",
    "gcloud ml-engine jobs submit training ${JOB_NAME} \\\n",
    "        --job-dir=${MODEL_DIR}/job_dir \\\n",
    "        --runtime-version=1.2 \\\n",
    "        --region=${REGION} \\\n",
    "        --scale-tier=${TIER} \\\n",
    "        --module-name=trainer.task \\\n",
    "        --package-path=${PACKAGE_PATH} \\\n",
    "        -- \\\n",
    "        --train-file=${TRAIN_FILE} \\\n",
    "        --model-dir=${MODEL_DIR}"
   ]
  },
  {
   "cell_type": "markdown",
   "metadata": {},
   "source": [
    "## Confirm the Uploaded Fitted Model to GCS"
   ]
  },
  {
   "cell_type": "code",
   "execution_count": 21,
   "metadata": {},
   "outputs": [
    {
     "name": "stdout",
     "output_type": "stream",
     "text": [
      "gs://ksalama-gcs-cloudml/ml-models/iris_estimators/\n",
      "gs://ksalama-gcs-cloudml/ml-models/iris_estimators/model.joblib\n",
      "gs://ksalama-gcs-cloudml/ml-models/iris_estimators/job_dir/\n"
     ]
    }
   ],
   "source": [
    "%%bash\n",
    "\n",
    "BUCKET=ksalama-gcs-cloudml\n",
    "\n",
    "gsutil ls gs://${BUCKET}/ml-models/iris_estimators"
   ]
  },
  {
   "cell_type": "markdown",
   "metadata": {},
   "source": [
    "## Create a Model and Deploy a Model Version on Cloud ML Engine"
   ]
  },
  {
   "cell_type": "code",
   "execution_count": 51,
   "metadata": {},
   "outputs": [
    {
     "name": "stderr",
     "output_type": "stream",
     "text": [
      "Created ml engine model [projects/ksalama-gcp-playground/models/iris_estimator].\n"
     ]
    }
   ],
   "source": [
    "%%bash \n",
    "\n",
    "MODEL_NAME=\"iris_estimator\"\n",
    "REGION=europe-west1\n",
    "\n",
    "gcloud ml-engine models create ${MODEL_NAME} --regions=${REGION}"
   ]
  },
  {
   "cell_type": "code",
   "execution_count": 11,
   "metadata": {},
   "outputs": [
    {
     "name": "stderr",
     "output_type": "stream",
     "text": [
      "Creating version (this might take a few minutes)......\n",
      "...............................................................................................................................done.\n"
     ]
    }
   ],
   "source": [
    "%%bash \n",
    "\n",
    "MODEL_NAME=\"iris_estimator\"\n",
    "VERSION='v1'\n",
    "\n",
    "gcloud ml-engine versions create ${VERSION} --model=${MODEL_NAME} \\\n",
    "    --origin=\"gs://ksalama-gcs-cloudml/ml-models/iris_estimators\" \\\n",
    "    --runtime-version=\"1.2\" \\\n",
    "    --framework=\"SCIKIT_LEARN\""
   ]
  },
  {
   "cell_type": "markdown",
   "metadata": {},
   "source": [
    "## Perform Prediction Using the Deployed Model"
   ]
  },
  {
   "cell_type": "code",
   "execution_count": 18,
   "metadata": {
    "collapsed": true
   },
   "outputs": [],
   "source": [
    "from googleapiclient import discovery\n",
    "from oauth2client.client import GoogleCredentials\n",
    "\n",
    "def estimate(project, model_name, version, instances):\n",
    "\n",
    "    credentials = GoogleCredentials.get_application_default()\n",
    "    api = discovery.build('ml', 'v1', credentials=credentials,\n",
    "                discoveryServiceUrl='https://storage.googleapis.com/cloud-ml/discovery/ml_v1_discovery.json')\n",
    "\n",
    "    request_data = {'instances': instances}\n",
    "\n",
    "    model_url = 'projects/{}/models/{}/versions/{}'.format(project, model_name, version)\n",
    "    response = api.projects().predict(body=request_data, name=model_url).execute()\n",
    "\n",
    "    predictions = response[\"predictions\"]\n",
    "\n",
    "    return predictions"
   ]
  },
  {
   "cell_type": "code",
   "execution_count": 19,
   "metadata": {},
   "outputs": [
    {
     "name": "stdout",
     "output_type": "stream",
     "text": [
      "['versicolor', 'versicolor']\n"
     ]
    }
   ],
   "source": [
    "PROJECT='ksalama-gcp-playground'\n",
    "MODEL_NAME='iris_estimator'\n",
    "VERSION='v1'\n",
    "\n",
    "instances = [\n",
    "    [6.8, 2.8, 4.8, 1.4],\n",
    "    [6. , 3.4, 4.5, 1.6]\n",
    "]\n",
    "\n",
    "predictions = estimate(instances=instances\n",
    "                     ,project=PROJECT\n",
    "                     ,model_name=MODEL_NAME\n",
    "                     ,version=VERSION)\n",
    "\n",
    "print(predictions)"
   ]
  }
 ],
 "metadata": {
  "kernelspec": {
   "display_name": "Python 3",
   "language": "python",
   "name": "python3"
  },
  "language_info": {
   "codemirror_mode": {
    "name": "ipython",
    "version": 3
   },
   "file_extension": ".py",
   "mimetype": "text/x-python",
   "name": "python",
   "nbconvert_exporter": "python",
   "pygments_lexer": "ipython3",
   "version": "3.6.1"
  }
 },
 "nbformat": 4,
 "nbformat_minor": 2
}
