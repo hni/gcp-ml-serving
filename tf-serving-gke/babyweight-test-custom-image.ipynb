{
 "cells": [
  {
   "cell_type": "code",
   "execution_count": 1,
   "metadata": {
    "collapsed": true
   },
   "outputs": [],
   "source": [
    "from __future__ import print_function\n",
    "from grpc.beta import implementations\n",
    "import tensorflow as tf\n",
    "\n",
    "from tensorflow_serving.apis import predict_pb2\n",
    "from tensorflow_serving.apis import prediction_service_pb2"
   ]
  },
  {
   "cell_type": "code",
   "execution_count": 2,
   "metadata": {},
   "outputs": [
    {
     "name": "stdout",
     "output_type": "stream",
     "text": [
      "[7.026423931121826]\n"
     ]
    }
   ],
   "source": [
    "HOST = '35.195.57.214'\n",
    "PORT = 9000\n",
    "\n",
    "channel = implementations.insecure_channel(HOST, PORT)\n",
    "stub = prediction_service_pb2.beta_create_PredictionService_stub(channel)\n",
    "  \n",
    "# Send request\n",
    "\n",
    "request = predict_pb2.PredictRequest()\n",
    "request.model_spec.name = 'babyweight-estimator'\n",
    "request.model_spec.signature_name = 'predict'\n",
    "\n",
    "request.inputs['is_male'].CopyFrom(tf.contrib.util.make_tensor_proto(['True']))\n",
    "request.inputs['mother_age'].CopyFrom(tf.contrib.util.make_tensor_proto([26.0]))\n",
    "request.inputs['mother_race'].CopyFrom(tf.contrib.util.make_tensor_proto(['Asian Indian']))\n",
    "request.inputs['plurality'].CopyFrom(tf.contrib.util.make_tensor_proto([1.0]))\n",
    "request.inputs['gestation_weeks'].CopyFrom(tf.contrib.util.make_tensor_proto([39.0]))\n",
    "request.inputs['mother_married'].CopyFrom(tf.contrib.util.make_tensor_proto(['True']))\n",
    "request.inputs['cigarette_use'].CopyFrom(tf.contrib.util.make_tensor_proto(['False']))\n",
    "request.inputs['alcohol_use'].CopyFrom(tf.contrib.util.make_tensor_proto(['False']))\n",
    "\n",
    "result = stub.Predict(request, 10.0)  # 10 secs timeout\n",
    "print(result.outputs['predictions'].ListFields()[2][1])"
   ]
  },
  {
   "cell_type": "code",
   "execution_count": null,
   "metadata": {
    "collapsed": true
   },
   "outputs": [],
   "source": []
  }
 ],
 "metadata": {
  "kernelspec": {
   "display_name": "Python 2",
   "language": "python",
   "name": "python2"
  },
  "language_info": {
   "codemirror_mode": {
    "name": "ipython",
    "version": 2
   },
   "file_extension": ".py",
   "mimetype": "text/x-python",
   "name": "python",
   "nbconvert_exporter": "python",
   "pygments_lexer": "ipython2",
   "version": "2.7.13"
  }
 },
 "nbformat": 4,
 "nbformat_minor": 2
}
